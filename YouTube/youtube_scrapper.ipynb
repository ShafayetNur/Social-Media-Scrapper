{
 "cells": [
  {
   "cell_type": "code",
   "execution_count": 1,
   "metadata": {},
   "outputs": [],
   "source": [
    "from googleapiclient.discovery import build\n",
    "from google_auth_oauthlib.flow import InstalledAppFlow\n",
    "import pandas as pd\n",
    "import demoji\n",
    "from langdetect import detect\n",
    "import re\n",
    "import os"
   ]
  },
  {
   "cell_type": "code",
   "execution_count": 2,
   "metadata": {},
   "outputs": [],
   "source": [
    "CLIENT_SECRET_FILE = 'client_secret.json'"
   ]
  },
  {
   "cell_type": "code",
   "execution_count": 3,
   "metadata": {},
   "outputs": [],
   "source": [
    "SCOPES = ['https://www.googleapis.com/auth/youtube.force-ssl']\n",
    "API_SERVICES_NAME = 'youtube'\n",
    "API_VERSION = 'v3'"
   ]
  },
  {
   "cell_type": "code",
   "execution_count": 4,
   "metadata": {},
   "outputs": [
    {
     "name": "stdout",
     "output_type": "stream",
     "text": [
      "Please visit this URL to authorize this application: https://accounts.google.com/o/oauth2/auth?response_type=code&client_id=400862598816-3v31cqlk7igcgo3es6o5kiq6l7hs2a64.apps.googleusercontent.com&redirect_uri=urn%3Aietf%3Awg%3Aoauth%3A2.0%3Aoob&scope=https%3A%2F%2Fwww.googleapis.com%2Fauth%2Fyoutube.force-ssl&state=M8Q9UpBkNDLWLGWXn1fztOJ2JYHTwx&prompt=consent&access_type=offline\n",
      "Enter the authorization code: 4/1AY0e-g4ptD19-45ee-7MLOuwmYGWlf6qTFE38tuFpccZ25pSKOeHPGh_d2c\n"
     ]
    }
   ],
   "source": [
    "def get_authenticated_service():\n",
    "    flow = InstalledAppFlow.from_client_secrets_file(CLIENT_SECRET_FILE,SCOPES)\n",
    "    credentials = flow.run_console()\n",
    "    return build(API_SERVICES_NAME,API_VERSION,credentials = credentials)\n",
    "os.environ['OAUTHLIB_INSECURE_TRANSPORT'] = '1'\n",
    "services = get_authenticated_service()"
   ]
  },
  {
   "cell_type": "code",
   "execution_count": 17,
   "metadata": {},
   "outputs": [],
   "source": [
    "query = 'Bojhena Shey Bojhena | Title Track | Soham | Abir | Payel | Mimi | Arijit Singh | Indraadip'"
   ]
  },
  {
   "cell_type": "code",
   "execution_count": 18,
   "metadata": {},
   "outputs": [
    {
     "name": "stdout",
     "output_type": "stream",
     "text": [
      "number of duplicate comments:  1999067\n",
      "number of unique comments:  1933\n"
     ]
    }
   ],
   "source": [
    "query_results = services.search().list(part = 'snippet',q = query, order = 'relevance',\n",
    "                                       type='video',relevanceLanguage = 'en',\n",
    "                                       safeSearch = 'moderate').execute()\n",
    "\n",
    "video_id = []\n",
    "channel = []\n",
    "video_title = []\n",
    "video_desc = []\n",
    "\n",
    "for item in query_results['items']:\n",
    "    video_id.append(item['id']['videoId'])\n",
    "    channel.append(item['snippet']['channelTitle'])\n",
    "    video_title.append(item['snippet']['title'])\n",
    "    video_desc.append(item['snippet']['description'])\n",
    "    \n",
    "video_id = video_id[0]\n",
    "channel = channel[0]\n",
    "video_title = video_title[0]\n",
    "video_desc = video_desc[0]\n",
    "\n",
    "video_id_pop = []\n",
    "channel_pop = []\n",
    "video_title_pop = []\n",
    "video_desc_pop = []\n",
    "comments_pop = []\n",
    "comment_id_pop = []\n",
    "reply_count_pop = []\n",
    "like_count_pop = []\n",
    "\n",
    "comments_temp = []\n",
    "comment_id_temp = []\n",
    "reply_count_temp = []\n",
    "like_count_temp = []\n",
    "\n",
    "nextPage_token = None\n",
    "\n",
    "while 1:\n",
    "    response = services.commentThreads().list(part='snippet',\n",
    "                                            videoId = video_id,\n",
    "                                            maxResults = 100,\n",
    "                                            order = 'relevance',\n",
    "                                            textFormat = 'plainText',\n",
    "                                            pageToken = nextPage_token).execute()\n",
    "    nextPage_token = response.get('nextPageToken')\n",
    "    for item in response['items']:\n",
    "        comments_temp.append(item['snippet']['topLevelComment']['snippet']['textDisplay'])\n",
    "        comment_id_temp.append(item['snippet']['topLevelComment']['id'])\n",
    "        reply_count_temp.append(item['snippet']['totalReplyCount'])\n",
    "        like_count_temp.append(item['snippet']['topLevelComment']['snippet']['likeCount'])\n",
    "        comments_pop.extend(comments_temp)\n",
    "        comment_id_pop.extend(comment_id_temp)\n",
    "        reply_count_pop.extend(reply_count_temp)\n",
    "        like_count_pop.extend(like_count_temp)        \n",
    "        video_id_pop.extend([video_id]*len(comments_temp))\n",
    "        channel_pop.extend([channel]*len(comments_temp))\n",
    "        video_title_pop.extend([video_title]*len(comments_temp))\n",
    "        video_desc_pop.extend([video_desc]*len(comments_temp))\n",
    "        \n",
    "    if nextPage_token is None:\n",
    "        break\n",
    "        \n",
    "output_dict = {\n",
    "    'channel' : channel_pop,\n",
    "    'video title' : video_title_pop,\n",
    "    'video Description' : video_desc_pop,\n",
    "    'video ID' : video_id_pop,\n",
    "    'comment' : comments_pop,\n",
    "    'commnet ID' : comment_id_pop,\n",
    "    'Replies' : reply_count_pop,\n",
    "    'Likes' : like_count_pop,\n",
    "}\n",
    "\n",
    "df = pd.DataFrame(output_dict,columns = output_dict.keys())\n",
    "\n",
    "duplicate_comments = df[df.duplicated('comment')]\n",
    "print('number of duplicate comments: ',duplicate_comments.shape[0])\n",
    "print('number of unique comments: ',df.shape[0]-duplicate_comments.shape[0])\n",
    "unique_comments = df.drop_duplicates(subset=['comment'])"
   ]
  },
  {
   "cell_type": "code",
   "execution_count": 19,
   "metadata": {},
   "outputs": [],
   "source": [
    "unique_comments.to_csv('dataset.csv',index = False)"
   ]
  }
 ],
 "metadata": {
  "kernelspec": {
   "display_name": "Python 3",
   "language": "python",
   "name": "python3"
  },
  "language_info": {
   "codemirror_mode": {
    "name": "ipython",
    "version": 3
   },
   "file_extension": ".py",
   "mimetype": "text/x-python",
   "name": "python",
   "nbconvert_exporter": "python",
   "pygments_lexer": "ipython3",
   "version": "3.7.4"
  }
 },
 "nbformat": 4,
 "nbformat_minor": 2
}
